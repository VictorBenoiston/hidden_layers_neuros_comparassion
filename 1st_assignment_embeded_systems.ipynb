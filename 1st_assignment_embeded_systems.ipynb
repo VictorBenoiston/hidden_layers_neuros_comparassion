{
  "nbformat": 4,
  "nbformat_minor": 0,
  "metadata": {
    "colab": {
      "provenance": [],
      "authorship_tag": "ABX9TyOYkGN8H9sRxhpB6fcy2qWF",
      "include_colab_link": true
    },
    "kernelspec": {
      "name": "python3",
      "display_name": "Python 3"
    },
    "language_info": {
      "name": "python"
    }
  },
  "cells": [
    {
      "cell_type": "markdown",
      "metadata": {
        "id": "view-in-github",
        "colab_type": "text"
      },
      "source": [
        "<a href=\"https://colab.research.google.com/github/VictorBenoiston/hidden_layers_neuros_comparassion/blob/main/1st_assignment_embeded_systems.ipynb\" target=\"_parent\"><img src=\"https://colab.research.google.com/assets/colab-badge.svg\" alt=\"Open In Colab\"/></a>"
      ]
    },
    {
      "cell_type": "code",
      "execution_count": null,
      "metadata": {
        "id": "Kx7mB7Hf0dMB"
      },
      "outputs": [],
      "source": [
        "# Trabalho de Sistemas Embarcados - Unidade 1\n",
        "# Victor Benoiston Jales de Oliveira."
      ]
    },
    {
      "cell_type": "code",
      "source": [
        "import tensorflow as tf\n",
        "import numpy as np\n",
        "\n",
        "print(tf.version.VERSION)"
      ],
      "metadata": {
        "colab": {
          "base_uri": "https://localhost:8080/"
        },
        "id": "F25e7QIz04PI",
        "outputId": "5f07a157-d744-472e-92a5-01fe591a28ee"
      },
      "execution_count": 1,
      "outputs": [
        {
          "output_type": "stream",
          "name": "stdout",
          "text": [
            "2.13.0\n"
          ]
        }
      ]
    },
    {
      "cell_type": "code",
      "source": [
        "# Define alguns dados para treino (xs como entradas e ys como saídas)\n",
        "\n",
        "xs = np.array([-1.0,  0.0, 1.0, 2.0, 3.0, 4.0], dtype=float)\n",
        "ys = np.array([-3.0, -1.0, 1.0, 3.0, 5.0, 7.0], dtype=float)"
      ],
      "metadata": {
        "id": "One57oPQ06VE"
      },
      "execution_count": 98,
      "outputs": []
    },
    {
      "cell_type": "code",
      "source": [
        "# O tipo \"list\" fornece um parâmetro \"shape\" com o formato da lista, ou seja, quais dimensões\n",
        "print(xs, xs.shape)\n",
        "print(ys, ys.shape)"
      ],
      "metadata": {
        "colab": {
          "base_uri": "https://localhost:8080/"
        },
        "id": "A1D35hrU0-Yd",
        "outputId": "1e12f96d-ec38-4137-8b19-81122355b355"
      },
      "execution_count": 3,
      "outputs": [
        {
          "output_type": "stream",
          "name": "stdout",
          "text": [
            "[-1.  0.  1.  2.  3.  4.] (6,)\n",
            "[-3. -1.  1.  3.  5.  7.] (6,)\n"
          ]
        }
      ]
    },
    {
      "cell_type": "markdown",
      "source": [
        "# Definindo o Modelo (Arquitetura NN - Arquitetura 1)\n",
        "* Para os fins desta sessão de testes, esta arquitetura será definida como \"Arquitetura 1\", sendo referida como \"a1\"."
      ],
      "metadata": {
        "id": "oHAYSeod1DO3"
      }
    },
    {
      "cell_type": "code",
      "source": [
        "# Define uma rede neuraral (NN) com 1 neurônio\n",
        "\n",
        "a1 = tf.keras.Sequential(\n",
        "          [tf.keras.layers.Dense( units=1, input_shape=[1])]\n",
        "    )"
      ],
      "metadata": {
        "id": "5YqsdWxf1JWX"
      },
      "execution_count": 99,
      "outputs": []
    },
    {
      "cell_type": "code",
      "source": [
        "# Mostra um resumo de todas as camadas e parâmetros da NN\n",
        "a1.summary()"
      ],
      "metadata": {
        "colab": {
          "base_uri": "https://localhost:8080/"
        },
        "id": "UwEvFoDA1Ox1",
        "outputId": "5ee49af5-6258-460f-d805-e85ab5a883b0"
      },
      "execution_count": 18,
      "outputs": [
        {
          "output_type": "stream",
          "name": "stdout",
          "text": [
            "Model: \"sequential_2\"\n",
            "_________________________________________________________________\n",
            " Layer (type)                Output Shape              Param #   \n",
            "=================================================================\n",
            " dense_2 (Dense)             (None, 1)                 2         \n",
            "                                                                 \n",
            "=================================================================\n",
            "Total params: 2 (8.00 Byte)\n",
            "Trainable params: 2 (8.00 Byte)\n",
            "Non-trainable params: 0 (0.00 Byte)\n",
            "_________________________________________________________________\n"
          ]
        }
      ]
    },
    {
      "cell_type": "markdown",
      "source": [
        "Inicialização dos parâmetros padrão\n",
        "\n",
        "* kernel_initializer ('ws') => 'glorot_uniform' (Xavier)\n",
        "* bias_initializer ('bs') => 'zeros'\n",
        "\n",
        "-> O objetivo da Xavier Initialization é inicializar os pesos de forma que a variação das ativações seja a mesma em todas as camadas. Essa variação constante ajuda a evitar que o gradiente exploda ou desapareça."
      ],
      "metadata": {
        "id": "oY7Gsade1bbd"
      }
    },
    {
      "cell_type": "code",
      "source": [
        "a1.get_weights() # lista de parâmetros"
      ],
      "metadata": {
        "colab": {
          "base_uri": "https://localhost:8080/"
        },
        "id": "rXzUtWmO1iZW",
        "outputId": "12fdbb55-9dab-490e-f349-a16e61db4315"
      },
      "execution_count": 100,
      "outputs": [
        {
          "output_type": "execute_result",
          "data": {
            "text/plain": [
              "[array([[0.44894397]], dtype=float32), array([0.], dtype=float32)]"
            ]
          },
          "metadata": {},
          "execution_count": 100
        }
      ]
    },
    {
      "cell_type": "code",
      "source": [
        "print(\"wi = \", a1.get_weights()[0][0][0])\n",
        "print(\"b  = \", a1.get_weights()[1][0])"
      ],
      "metadata": {
        "colab": {
          "base_uri": "https://localhost:8080/"
        },
        "id": "_kwpcihF1ye_",
        "outputId": "41ce9a28-2523-493a-b7b6-f88e46609525"
      },
      "execution_count": 24,
      "outputs": [
        {
          "output_type": "stream",
          "name": "stdout",
          "text": [
            "wi =  -1.1682422\n",
            "b  =  0.0\n"
          ]
        }
      ]
    },
    {
      "cell_type": "markdown",
      "source": [
        "# Compilando o Modelo"
      ],
      "metadata": {
        "id": "zYOKWvW511Qu"
      }
    },
    {
      "cell_type": "code",
      "source": [
        "# Use stochastic gradient descent (SGD) para otimização e\n",
        "# o erro quadrático médio como função de perda\n",
        "\n",
        "a1.compile(optimizer='sgd', loss='mean_squared_error')"
      ],
      "metadata": {
        "id": "EvmQzshC16-S"
      },
      "execution_count": 101,
      "outputs": []
    },
    {
      "cell_type": "code",
      "source": [
        "a1.save('my_first_model_no_training.h5')"
      ],
      "metadata": {
        "colab": {
          "base_uri": "https://localhost:8080/"
        },
        "id": "tlw_km9T2G3u",
        "outputId": "e47c562f-ee27-41d8-c083-33aff4035fd4"
      },
      "execution_count": 26,
      "outputs": [
        {
          "output_type": "stream",
          "name": "stderr",
          "text": [
            "/usr/local/lib/python3.10/dist-packages/keras/src/engine/training.py:3000: UserWarning: You are saving your model as an HDF5 file via `model.save()`. This file format is considered legacy. We recommend using instead the native Keras format, e.g. `model.save('my_model.keras')`.\n",
            "  saving_api.save_model(\n"
          ]
        }
      ]
    },
    {
      "cell_type": "code",
      "source": [
        "print(a1.predict([10.0]))"
      ],
      "metadata": {
        "colab": {
          "base_uri": "https://localhost:8080/"
        },
        "id": "_XFdABFs2T8V",
        "outputId": "e2ad2123-43e3-4c34-b201-655cb67bc883"
      },
      "execution_count": 102,
      "outputs": [
        {
          "output_type": "stream",
          "name": "stdout",
          "text": [
            "1/1 [==============================] - 0s 74ms/step\n",
            "[[4.48944]]\n"
          ]
        }
      ]
    },
    {
      "cell_type": "markdown",
      "source": [
        "Inspecionando o Modelo com [Netron](https://netron.app)"
      ],
      "metadata": {
        "id": "i281E-2D2h5e"
      }
    },
    {
      "cell_type": "code",
      "source": [
        "#instalando Netron para executar dentro do colab\n",
        "!pip install -q netron"
      ],
      "metadata": {
        "colab": {
          "base_uri": "https://localhost:8080/"
        },
        "id": "oBCIphRB2ir9",
        "outputId": "0a4072ca-7001-426c-c3c3-d5d70990c39e"
      },
      "execution_count": 14,
      "outputs": [
        {
          "output_type": "stream",
          "name": "stdout",
          "text": [
            "\u001b[2K     \u001b[90m━━━━━━━━━━━━━━━━━━━━━━━━━━━━━━━━━━━━━━━━\u001b[0m \u001b[32m1.6/1.6 MB\u001b[0m \u001b[31m5.9 MB/s\u001b[0m eta \u001b[36m0:00:00\u001b[0m\n",
            "\u001b[?25h"
          ]
        }
      ]
    },
    {
      "cell_type": "code",
      "source": [
        "#visualizar usando Netron\n",
        "import netron\n",
        "import portpicker\n",
        "from google.colab import output\n",
        "\n",
        "port = portpicker.pick_unused_port()\n",
        "\n",
        "# Read the model file and start the netron browser.\n",
        "with output.temporary():\n",
        "  netron.start('my_first_model_no_training.h5', port, browse=False)\n",
        "\n",
        "output.serve_kernel_port_as_iframe(port, height='800')"
      ],
      "metadata": {
        "id": "vRdP6ilE2lmm"
      },
      "execution_count": null,
      "outputs": []
    },
    {
      "cell_type": "markdown",
      "source": [
        "# Arquitetura 1, Modelo 1 (A1M1)"
      ],
      "metadata": {
        "id": "RmBCNxVo20s0"
      }
    },
    {
      "cell_type": "code",
      "source": [
        "#Copiando a arquitetura 1 para o modelo 2.\n",
        "a1m1 = a1\n",
        "\n",
        "# Treinando o modelo com 100 epocas - A1M1\n",
        "history_a1m1 = a1m1.fit(xs, ys, epochs=100)"
      ],
      "metadata": {
        "id": "5VR-dM6i2sZD"
      },
      "execution_count": null,
      "outputs": []
    },
    {
      "cell_type": "code",
      "source": [
        "# Inspecionando o modelo\n",
        "print(\"wi = \", a1m1.get_weights()[0][0][0])\n",
        "print(\"b  = \", a1m1.get_weights()[1][0])"
      ],
      "metadata": {
        "colab": {
          "base_uri": "https://localhost:8080/"
        },
        "id": "Yue0Y-z431b0",
        "outputId": "f26e3c33-1240-43ea-8cc4-af85f9b2fb36"
      },
      "execution_count": 104,
      "outputs": [
        {
          "output_type": "stream",
          "name": "stdout",
          "text": [
            "wi =  1.8447167\n",
            "b  =  -0.51859474\n"
          ]
        }
      ]
    },
    {
      "cell_type": "code",
      "source": [
        "# Salvando o Modelo treinado (Arquitetura 1, Modelo 1 - A1M1)\n",
        "a1.save('a1m1.h5')"
      ],
      "metadata": {
        "colab": {
          "base_uri": "https://localhost:8080/"
        },
        "id": "E3TbNk6t4KHk",
        "outputId": "17d8ead6-94ca-4362-a2a2-9596a7385ad5"
      },
      "execution_count": 105,
      "outputs": [
        {
          "output_type": "stream",
          "name": "stderr",
          "text": [
            "/usr/local/lib/python3.10/dist-packages/keras/src/engine/training.py:3000: UserWarning: You are saving your model as an HDF5 file via `model.save()`. This file format is considered legacy. We recommend using instead the native Keras format, e.g. `model.save('my_model.keras')`.\n",
            "  saving_api.save_model(\n"
          ]
        }
      ]
    },
    {
      "cell_type": "code",
      "source": [
        "#visualizando o modelo treinado no netron\n",
        "port = portpicker.pick_unused_port()\n",
        "\n",
        "# Read the model file and start the netron browser.\n",
        "with output.temporary():\n",
        "  netron.start('a1m1.h5', port, browse=False)\n",
        "\n",
        "output.serve_kernel_port_as_iframe(port, height='800')"
      ],
      "metadata": {
        "id": "b9EhXP9o5Pom"
      },
      "execution_count": null,
      "outputs": []
    },
    {
      "cell_type": "code",
      "source": [
        "# Testando o modelo a1m1\n",
        "\n",
        "print(a1m1.predict([10.0]))"
      ],
      "metadata": {
        "colab": {
          "base_uri": "https://localhost:8080/"
        },
        "id": "Gkg1vkb35fKD",
        "outputId": "45bd9818-d370-4762-e9e8-49864e9b648e"
      },
      "execution_count": 107,
      "outputs": [
        {
          "output_type": "stream",
          "name": "stdout",
          "text": [
            "1/1 [==============================] - 0s 61ms/step\n",
            "[[17.928572]]\n"
          ]
        }
      ]
    },
    {
      "cell_type": "code",
      "source": [
        "import matplotlib.pyplot as plt\n",
        "plt.plot(history_a1m1.history['loss'])\n",
        "plt.title('Arquitecture 1 Model 1 loss')\n",
        "plt.ylabel('loss')\n",
        "plt.xlabel('epoch')\n",
        "plt.legend(['train'], loc='upper right')\n",
        "plt.show()"
      ],
      "metadata": {
        "colab": {
          "base_uri": "https://localhost:8080/",
          "height": 472
        },
        "id": "4etf9LiD6DoS",
        "outputId": "1e6cb750-c97c-4889-85f3-09f61b36dd53"
      },
      "execution_count": 108,
      "outputs": [
        {
          "output_type": "display_data",
          "data": {
            "text/plain": [
              "<Figure size 640x480 with 1 Axes>"
            ],
            "image/png": "[encoded data removed]"
          },
          "metadata": {}
        }
      ]
    },
    {
      "cell_type": "markdown",
      "source": [
        "# Arquitetura 1, Modelo 2 (A1M2)"
      ],
      "metadata": {
        "id": "pXfADPwS68lr"
      }
    },
    {
      "cell_type": "code",
      "source": [
        "#Copiando a arquitetura 1 para o modelo 2.\n",
        "a1m2 = a1\n",
        "\n",
        "# Treinando o modelo com 200 epocas - A1M1\n",
        "history_a1m2 = a1m2.fit(xs, ys, epochs=200)"
      ],
      "metadata": {
        "id": "L6q4YqvF68lr"
      },
      "execution_count": null,
      "outputs": []
    },
    {
      "cell_type": "code",
      "source": [
        "# Inspecionando o modelo\n",
        "print(\"wi = \", a1m2.get_weights()[0][0][0])\n",
        "print(\"b  = \", a1m2.get_weights()[1][0])"
      ],
      "metadata": {
        "colab": {
          "base_uri": "https://localhost:8080/"
        },
        "outputId": "146c61fa-3af7-493d-a033-82250ef5dc7a",
        "id": "KjB5PeGm68lr"
      },
      "execution_count": 110,
      "outputs": [
        {
          "output_type": "stream",
          "name": "stdout",
          "text": [
            "wi =  1.9805129\n",
            "b  =  -0.9395835\n"
          ]
        }
      ]
    },
    {
      "cell_type": "code",
      "source": [
        "# Salvando o Modelo treinado (Arquitetura 1, Modelo 2 - A1M2)\n",
        "a1.save('a1m2.h5')"
      ],
      "metadata": {
        "id": "JNwkveib68lr"
      },
      "execution_count": 111,
      "outputs": []
    },
    {
      "cell_type": "code",
      "source": [
        "# Testando o modelo a1m2\n",
        "\n",
        "print(a1m2.predict([10.0]))"
      ],
      "metadata": {
        "colab": {
          "base_uri": "https://localhost:8080/"
        },
        "outputId": "9b5c3e1c-4985-42d1-aa8b-d2f9b7a95208",
        "id": "VS2P_y4b68ls"
      },
      "execution_count": 112,
      "outputs": [
        {
          "output_type": "stream",
          "name": "stdout",
          "text": [
            "1/1 [==============================] - 0s 53ms/step\n",
            "[[18.865545]]\n"
          ]
        }
      ]
    },
    {
      "cell_type": "code",
      "source": [
        "import matplotlib.pyplot as plt\n",
        "plt.plot(history_a1m2.history['loss'])\n",
        "plt.title('Arquitecture 1 Model 2 loss')\n",
        "plt.ylabel('loss')\n",
        "plt.xlabel('epoch')\n",
        "plt.legend(['train'], loc='upper right')\n",
        "plt.show()"
      ],
      "metadata": {
        "colab": {
          "base_uri": "https://localhost:8080/",
          "height": 472
        },
        "outputId": "445b3d67-c411-4054-e844-76f23dbabd5b",
        "id": "68O8GHUX68ls"
      },
      "execution_count": 113,
      "outputs": [
        {
          "output_type": "display_data",
          "data": {
            "text/plain": [
              "<Figure size 640x480 with 1 Axes>"
            ],
            "image/png": "[encoded data removed]"
          },
          "metadata": {}
        }
      ]
    },
    {
      "cell_type": "markdown",
      "source": [
        "# Arquitetura 1, Modelo 3 (A1M3)"
      ],
      "metadata": {
        "id": "7WqZJ5gT8o4n"
      }
    },
    {
      "cell_type": "code",
      "source": [
        "#Copiando a arquitetura 1 para o modelo 3.\n",
        "a1m3 = a1\n",
        "\n",
        "# Treinando o modelo com 300 epocas - A1M1\n",
        "history_a1m3 = a1m1.fit(xs, ys, epochs=300)"
      ],
      "metadata": {
        "id": "bMouhz5z8o4n"
      },
      "execution_count": null,
      "outputs": []
    },
    {
      "cell_type": "code",
      "source": [
        "# Inspecionando o modelo\n",
        "print(\"wi = \", a1m3.get_weights()[0][0][0])\n",
        "print(\"b  = \", a1m3.get_weights()[1][0])"
      ],
      "metadata": {
        "colab": {
          "base_uri": "https://localhost:8080/"
        },
        "outputId": "34b3d74c-d916-48d4-9421-8ffecf36e31f",
        "id": "7TIWxrnh8o4n"
      },
      "execution_count": 115,
      "outputs": [
        {
          "output_type": "stream",
          "name": "stdout",
          "text": [
            "wi =  1.9991337\n",
            "b  =  -0.99731386\n"
          ]
        }
      ]
    },
    {
      "cell_type": "code",
      "source": [
        "# Salvando o Modelo treinado (Arquitetura 1, Modelo 3 - A1M3)\n",
        "a1.save('a1m3.h5')"
      ],
      "metadata": {
        "id": "KPZ-5GTI8o4o"
      },
      "execution_count": 116,
      "outputs": []
    },
    {
      "cell_type": "code",
      "source": [
        "# Testando o modelo a1m3\n",
        "\n",
        "print(a1m3.predict([10.0]))"
      ],
      "metadata": {
        "colab": {
          "base_uri": "https://localhost:8080/"
        },
        "outputId": "e07d7853-a33c-4fbc-f4f9-2d74b60cf251",
        "id": "lvF0Fb4w8o4o"
      },
      "execution_count": 117,
      "outputs": [
        {
          "output_type": "stream",
          "name": "stdout",
          "text": [
            "1/1 [==============================] - 0s 74ms/step\n",
            "[[18.994022]]\n"
          ]
        }
      ]
    },
    {
      "cell_type": "code",
      "source": [
        "import matplotlib.pyplot as plt\n",
        "plt.plot(history_a1m3.history['loss'])\n",
        "plt.title('Arquitecture 1 Model 3 loss')\n",
        "plt.ylabel('loss')\n",
        "plt.xlabel('epoch')\n",
        "plt.legend(['train'], loc='upper right')\n",
        "plt.show()"
      ],
      "metadata": {
        "colab": {
          "base_uri": "https://localhost:8080/",
          "height": 472
        },
        "outputId": "89925a5a-35ac-4350-88d2-7f0d2454aeac",
        "id": "Z92CexCC8o4o"
      },
      "execution_count": 118,
      "outputs": [
        {
          "output_type": "display_data",
          "data": {
            "text/plain": [
              "<Figure size 640x480 with 1 Axes>"
            ],
            "image/png": "[encoded data removed]"
          },
          "metadata": {}
        }
      ]
    },
    {
      "cell_type": "markdown",
      "source": [
        "# Arquitetura 1, Modelo 4 (A1M4)"
      ],
      "metadata": {
        "id": "eFPmhD8I9PwK"
      }
    },
    {
      "cell_type": "code",
      "source": [
        "#Copiando a arquitetura 1 para o modelo 4.\n",
        "a1m4 = a1\n",
        "\n",
        "# Treinando o modelo com 400 epocas - A1M4\n",
        "history_a1m4 = a1m4.fit(xs, ys, epochs=400)"
      ],
      "metadata": {
        "id": "rIwxM3tp9PwK"
      },
      "execution_count": null,
      "outputs": []
    },
    {
      "cell_type": "code",
      "source": [
        "# Inspecionando o modelo\n",
        "print(\"wi = \", a1m4.get_weights()[0][0][0])\n",
        "print(\"b  = \", a1m4.get_weights()[1][0])"
      ],
      "metadata": {
        "colab": {
          "base_uri": "https://localhost:8080/"
        },
        "outputId": "86911a1b-4ecf-4761-9543-f8ff10ed47af",
        "id": "jr9R4cmW9PwK"
      },
      "execution_count": 120,
      "outputs": [
        {
          "output_type": "stream",
          "name": "stdout",
          "text": [
            "wi =  1.9999859\n",
            "b  =  -0.9999573\n"
          ]
        }
      ]
    },
    {
      "cell_type": "code",
      "source": [
        "# Salvando o Modelo treinado (Arquitetura 1, Modelo 4 - A1M4)\n",
        "a1.save('a1m4.h5')"
      ],
      "metadata": {
        "id": "LqSHadqz9PwL"
      },
      "execution_count": 121,
      "outputs": []
    },
    {
      "cell_type": "code",
      "source": [
        "# Testando o modelo a1m4\n",
        "\n",
        "print(a1m4.predict([10.0]))"
      ],
      "metadata": {
        "colab": {
          "base_uri": "https://localhost:8080/"
        },
        "outputId": "5683fdb5-49f8-429f-a2cb-0002367942ff",
        "id": "eWQvK5rl9PwL"
      },
      "execution_count": 122,
      "outputs": [
        {
          "output_type": "stream",
          "name": "stdout",
          "text": [
            "1/1 [==============================] - 0s 53ms/step\n",
            "[[18.9999]]\n"
          ]
        }
      ]
    },
    {
      "cell_type": "code",
      "source": [
        "import matplotlib.pyplot as plt\n",
        "plt.plot(history_a1m4.history['loss'])\n",
        "plt.title('Arquitecture 1 Model 4 loss')\n",
        "plt.ylabel('loss')\n",
        "plt.xlabel('epoch')\n",
        "plt.legend(['train'], loc='upper right')\n",
        "plt.show()"
      ],
      "metadata": {
        "colab": {
          "base_uri": "https://localhost:8080/",
          "height": 472
        },
        "outputId": "33b89963-05e5-4e20-d81c-089a5f270262",
        "id": "2SIu9Xla9PwL"
      },
      "execution_count": 123,
      "outputs": [
        {
          "output_type": "display_data",
          "data": {
            "text/plain": [
              "<Figure size 640x480 with 1 Axes>"
            ],
            "image/png": "[encoded data removed]"
          },
          "metadata": {}
        }
      ]
    },
    {
      "cell_type": "markdown",
      "source": [
        "# Arquitetura 1, Modelo 5 (A1M5)"
      ],
      "metadata": {
        "id": "ALx7zpnI-SIV"
      }
    },
    {
      "cell_type": "code",
      "source": [
        "#Copiando a arquitetura 1 para o modelo 5.\n",
        "a1m5 = a1\n",
        "\n",
        "# Treinando o modelo com 500 epocas - A1M5\n",
        "history_a1m5 = a1m5.fit(xs, ys, epochs=500)"
      ],
      "metadata": {
        "id": "3lP8Pw11-SIV"
      },
      "execution_count": null,
      "outputs": []
    },
    {
      "cell_type": "code",
      "source": [
        "# Inspecionando o modelo\n",
        "print(\"wi = \", a1m5.get_weights()[0][0][0])\n",
        "print(\"b  = \", a1m5.get_weights()[1][0])"
      ],
      "metadata": {
        "colab": {
          "base_uri": "https://localhost:8080/"
        },
        "outputId": "91fc99d5-93da-4d5c-bb37-3d7a1f732d90",
        "id": "L2QDbww9-SIV"
      },
      "execution_count": 85,
      "outputs": [
        {
          "output_type": "stream",
          "name": "stdout",
          "text": [
            "wi =  1.9999982\n",
            "b  =  -0.99999595\n"
          ]
        }
      ]
    },
    {
      "cell_type": "code",
      "source": [
        "# Salvando o Modelo treinado (Arquitetura 1, Modelo 5 - A1M5)\n",
        "a1.save('a1m5.h5')"
      ],
      "metadata": {
        "colab": {
          "base_uri": "https://localhost:8080/"
        },
        "outputId": "c1467851-f2d2-4dad-9fdc-da8fc34e320f",
        "id": "-iBUpBmD-SIV"
      },
      "execution_count": 86,
      "outputs": [
        {
          "output_type": "stream",
          "name": "stderr",
          "text": [
            "/usr/local/lib/python3.10/dist-packages/keras/src/engine/training.py:3000: UserWarning: You are saving your model as an HDF5 file via `model.save()`. This file format is considered legacy. We recommend using instead the native Keras format, e.g. `model.save('my_model.keras')`.\n",
            "  saving_api.save_model(\n"
          ]
        }
      ]
    },
    {
      "cell_type": "code",
      "source": [
        "# Testando o modelo a1m5\n",
        "\n",
        "print(a1m5.predict([10.0]))"
      ],
      "metadata": {
        "colab": {
          "base_uri": "https://localhost:8080/"
        },
        "outputId": "29002020-4c8a-428f-ab6c-787a91a3752c",
        "id": "3f2UsgMh-SIV"
      },
      "execution_count": 125,
      "outputs": [
        {
          "output_type": "stream",
          "name": "stdout",
          "text": [
            "1/1 [==============================] - 0s 39ms/step\n",
            "[[18.999987]]\n"
          ]
        }
      ]
    },
    {
      "cell_type": "code",
      "source": [
        "import matplotlib.pyplot as plt\n",
        "plt.plot(history_a1m5.history['loss'])\n",
        "plt.title('Arquitecture 1 Model 3 loss')\n",
        "plt.ylabel('loss')\n",
        "plt.xlabel('epoch')\n",
        "plt.legend(['train'], loc='upper right')\n",
        "plt.show()"
      ],
      "metadata": {
        "colab": {
          "base_uri": "https://localhost:8080/",
          "height": 472
        },
        "outputId": "bf833132-23de-4fab-bb6e-74b2ca123a50",
        "id": "mcbH3K8n-SIV"
      },
      "execution_count": 126,
      "outputs": [
        {
          "output_type": "display_data",
          "data": {
            "text/plain": [
              "<Figure size 640x480 with 1 Axes>"
            ],
            "image/png": "[encoded data removed]"
          },
          "metadata": {}
        }
      ]
    },
    {
      "cell_type": "markdown",
      "source": [
        "# Definindo o Modelo (Arquitetura NN - Arquitetura 2)\n",
        "* Para os fins desta sessão de testes, esta arquitetura será definida como \"Arquitetura 2\", sendo referida como \"a2\"."
      ],
      "metadata": {
        "id": "4VgvfeMtCKdI"
      }
    },
    {
      "cell_type": "code",
      "source": [
        "# Define uma rede neuraral (NN) com 2 neurônios\n",
        "# Para maior informações sobre funções TF: https://www.tensorflow.org/api_docs\n",
        "\n",
        "a2 = tf.keras.Sequential(\n",
        "          [tf.keras.layers.Dense( units=2, input_shape=[1]),\n",
        "           tf.keras.layers.Dense(units=1)]\n",
        "    )"
      ],
      "metadata": {
        "id": "BXVW_cygCNOi"
      },
      "execution_count": 296,
      "outputs": []
    },
    {
      "cell_type": "markdown",
      "source": [
        "# Compilando o modelo"
      ],
      "metadata": {
        "id": "4VJ3Y6YcGBDr"
      }
    },
    {
      "cell_type": "code",
      "source": [
        "# Use stochastic gradient descent (SGD) para otimização e\n",
        "# o erro quadrático médio como função de perda\n",
        "\n",
        "a2.compile(optimizer='sgd', loss='mean_squared_error')"
      ],
      "metadata": {
        "id": "00HXsAO6GAAj"
      },
      "execution_count": 297,
      "outputs": []
    },
    {
      "cell_type": "markdown",
      "source": [
        "# Arquitetura 2, Modelo 1 (A2M1)"
      ],
      "metadata": {
        "id": "RJhPS6PRKut9"
      }
    },
    {
      "cell_type": "code",
      "source": [
        "#Copiando a arquitetura 2 para o modelo 1.\n",
        "a2m1 = a2\n",
        "\n",
        "# Treinando o modelo com 100 epocas - A2M1\n",
        "history_a2m1 = a2m1.fit(xs, ys, epochs=100)"
      ],
      "metadata": {
        "id": "qR8hP5yoFqk0"
      },
      "execution_count": null,
      "outputs": []
    },
    {
      "cell_type": "code",
      "source": [
        "# Inspecionando o modelo\n",
        "print(\"wi = \", a2m1.get_weights()[0][0][0])\n",
        "print(\"b  = \", a2m1.get_weights()[1][0])"
      ],
      "metadata": {
        "colab": {
          "base_uri": "https://localhost:8080/"
        },
        "outputId": "3cdbc53b-6e39-4431-e282-1d4560131c72",
        "id": "KVoUk3F5Fqk0"
      },
      "execution_count": 150,
      "outputs": [
        {
          "output_type": "stream",
          "name": "stdout",
          "text": [
            "wi =  -1.3443642\n",
            "b  =  0.32434458\n"
          ]
        }
      ]
    },
    {
      "cell_type": "code",
      "source": [
        "# Salvando o Modelo treinado (Arquitetura 2, Modelo 1 - A2M1)\n",
        "a2.save('a2m1.h5')"
      ],
      "metadata": {
        "colab": {
          "base_uri": "https://localhost:8080/"
        },
        "outputId": "a5c2a178-c107-4418-c811-f1bbc6464970",
        "id": "A-taQ6QUFqk1"
      },
      "execution_count": 151,
      "outputs": [
        {
          "output_type": "stream",
          "name": "stderr",
          "text": [
            "/usr/local/lib/python3.10/dist-packages/keras/src/engine/training.py:3000: UserWarning: You are saving your model as an HDF5 file via `model.save()`. This file format is considered legacy. We recommend using instead the native Keras format, e.g. `model.save('my_model.keras')`.\n",
            "  saving_api.save_model(\n"
          ]
        }
      ]
    },
    {
      "cell_type": "code",
      "source": [
        "# Testando o modelo a2m1\n",
        "\n",
        "print(a2m1.predict([10.0]))"
      ],
      "metadata": {
        "colab": {
          "base_uri": "https://localhost:8080/"
        },
        "outputId": "5f9ea137-0259-44e9-fbee-5e7ee0ac66b0",
        "id": "nYK62w6BFqk1"
      },
      "execution_count": 152,
      "outputs": [
        {
          "output_type": "stream",
          "name": "stdout",
          "text": [
            "1/1 [==============================] - 0s 71ms/step\n",
            "[[18.989567]]\n"
          ]
        }
      ]
    },
    {
      "cell_type": "code",
      "source": [
        "import matplotlib.pyplot as plt\n",
        "plt.plot(history_a2m1.history['loss'])\n",
        "plt.title('Arquitecture 2 Model 2 loss')\n",
        "plt.ylabel('loss')\n",
        "plt.xlabel('epoch')\n",
        "plt.legend(['train'], loc='upper right')\n",
        "plt.show()"
      ],
      "metadata": {
        "colab": {
          "base_uri": "https://localhost:8080/",
          "height": 472
        },
        "outputId": "3febebd4-c684-46c7-b9ec-05d393beba14",
        "id": "Af5-HiuqFqk1"
      },
      "execution_count": 160,
      "outputs": [
        {
          "output_type": "display_data",
          "data": {
            "text/plain": [
              "<Figure size 640x480 with 1 Axes>"
            ],
            "image/png": "[encoded data removed]"
          },
          "metadata": {}
        }
      ]
    },
    {
      "cell_type": "markdown",
      "source": [
        "# Arquitetura 2, Modelo 2 (A2M2)"
      ],
      "metadata": {
        "id": "qYsChjqJK0ih"
      }
    },
    {
      "cell_type": "code",
      "source": [
        "#Copiando a arquitetura 2 para o modelo 2.\n",
        "a2m2 = a2\n",
        "\n",
        "# Treinando o modelo com 200 epocas - A2M2\n",
        "history_a2m2 = a2m2.fit(xs, ys, epochs=200)"
      ],
      "metadata": {
        "id": "WeWf735iKPR0"
      },
      "execution_count": null,
      "outputs": []
    },
    {
      "cell_type": "code",
      "source": [
        "# Inspecionando o modelo\n",
        "print(\"wi = \", a2m2.get_weights()[0][0][0])\n",
        "print(\"b  = \", a2m2.get_weights()[1][0])"
      ],
      "metadata": {
        "colab": {
          "base_uri": "https://localhost:8080/"
        },
        "outputId": "39570127-eca3-4282-fd50-42d1fa3e828a",
        "id": "eLGxlNhbKPR0"
      },
      "execution_count": 240,
      "outputs": [
        {
          "output_type": "stream",
          "name": "stdout",
          "text": [
            "wi =  0.61327565\n",
            "b  =  -0.28684488\n"
          ]
        }
      ]
    },
    {
      "cell_type": "code",
      "source": [
        "# Salvando o Modelo treinado (Arquitetura 2, Modelo 2 - A2M2)\n",
        "a2.save('a2m2.h5')"
      ],
      "metadata": {
        "id": "cTqfOfSRKPR1"
      },
      "execution_count": 241,
      "outputs": []
    },
    {
      "cell_type": "code",
      "source": [
        "# Testando o modelo a2m2\n",
        "\n",
        "print(a2m2.predict([10.0]))"
      ],
      "metadata": {
        "colab": {
          "base_uri": "https://localhost:8080/"
        },
        "outputId": "51bfea46-74b2-4a56-bb25-881067843d12",
        "id": "5wug9XvmKPR1"
      },
      "execution_count": 242,
      "outputs": [
        {
          "output_type": "stream",
          "name": "stdout",
          "text": [
            "1/1 [==============================] - 0s 75ms/step\n",
            "[[18.99819]]\n"
          ]
        }
      ]
    },
    {
      "cell_type": "code",
      "source": [
        "import matplotlib.pyplot as plt\n",
        "plt.plot(history_a2m2.history['loss'])\n",
        "plt.title('Arquitecture 2 Model 2 loss')\n",
        "plt.ylabel('loss')\n",
        "plt.xlabel('epoch')\n",
        "plt.legend(['train'], loc='upper right')\n",
        "plt.show()"
      ],
      "metadata": {
        "colab": {
          "base_uri": "https://localhost:8080/",
          "height": 472
        },
        "outputId": "dd54f6d2-0faf-4b56-dd2b-5ddeebaa27d8",
        "id": "lGrYhzGLKPR1"
      },
      "execution_count": 243,
      "outputs": [
        {
          "output_type": "display_data",
          "data": {
            "text/plain": [
              "<Figure size 640x480 with 1 Axes>"
            ],
            "image/png": "[encoded data removed]"
          },
          "metadata": {}
        }
      ]
    },
    {
      "cell_type": "markdown",
      "source": [
        "# Arquitetura 2, Modelo 3 (A2M3)"
      ],
      "metadata": {
        "id": "fh5pRGr5Ll5k"
      }
    },
    {
      "cell_type": "code",
      "source": [
        "#Copiando a arquitetura 2 para o modelo 3.\n",
        "a2m3 = a2\n",
        "\n",
        "# Treinando o modelo com 300 epocas - A2M3\n",
        "history_a2m3 = a2m3.fit(xs, ys, epochs=300)"
      ],
      "metadata": {
        "id": "StRqyMKWLl5l"
      },
      "execution_count": null,
      "outputs": []
    },
    {
      "cell_type": "code",
      "source": [
        "# Inspecionando o modelo\n",
        "print(\"wi = \", a2m3.get_weights()[0][0][0])\n",
        "print(\"b  = \", a2m3.get_weights()[1][0])"
      ],
      "metadata": {
        "colab": {
          "base_uri": "https://localhost:8080/"
        },
        "outputId": "c9c32b93-1616-4bdc-b377-f1d803a699db",
        "id": "mmnng5lILl5l"
      },
      "execution_count": 299,
      "outputs": [
        {
          "output_type": "stream",
          "name": "stdout",
          "text": [
            "wi =  1.1223483\n",
            "b  =  -0.25063494\n"
          ]
        }
      ]
    },
    {
      "cell_type": "code",
      "source": [
        "# Salvando o Modelo treinado (Arquitetura 2, Modelo 3 - A2M3)\n",
        "a2.save('a2m3.h5')"
      ],
      "metadata": {
        "colab": {
          "base_uri": "https://localhost:8080/"
        },
        "outputId": "a6e63610-b8f5-4523-f6d4-65e998a45536",
        "id": "WfC6BcWMLl5l"
      },
      "execution_count": 273,
      "outputs": [
        {
          "output_type": "stream",
          "name": "stderr",
          "text": [
            "/usr/local/lib/python3.10/dist-packages/keras/src/engine/training.py:3000: UserWarning: You are saving your model as an HDF5 file via `model.save()`. This file format is considered legacy. We recommend using instead the native Keras format, e.g. `model.save('my_model.keras')`.\n",
            "  saving_api.save_model(\n"
          ]
        }
      ]
    },
    {
      "cell_type": "code",
      "source": [
        "# Testando o modelo a2m3\n",
        "\n",
        "print(a2m3.predict([10.0]))"
      ],
      "metadata": {
        "colab": {
          "base_uri": "https://localhost:8080/"
        },
        "outputId": "500afbff-ecb2-4e3f-858f-3ff446334d85",
        "id": "pt8PufORLl5l"
      },
      "execution_count": 274,
      "outputs": [
        {
          "output_type": "stream",
          "name": "stdout",
          "text": [
            "1/1 [==============================] - 0s 72ms/step\n",
            "[[18.999416]]\n"
          ]
        }
      ]
    },
    {
      "cell_type": "code",
      "source": [
        "import matplotlib.pyplot as plt\n",
        "plt.plot(history_a2m3.history['loss'])\n",
        "plt.title('Arquitecture 2 Model 3 loss')\n",
        "plt.ylabel('loss')\n",
        "plt.xlabel('epoch')\n",
        "plt.legend(['train'], loc='upper right')\n",
        "plt.show()"
      ],
      "metadata": {
        "colab": {
          "base_uri": "https://localhost:8080/",
          "height": 472
        },
        "outputId": "7e0f45b9-8e86-4ce8-eb5d-18f2735b6708",
        "id": "86p-lh7aLl5l"
      },
      "execution_count": 197,
      "outputs": [
        {
          "output_type": "display_data",
          "data": {
            "text/plain": [
              "<Figure size 640x480 with 1 Axes>"
            ],
            "image/png": "[encoded data removed]"
          },
          "metadata": {}
        }
      ]
    },
    {
      "cell_type": "markdown",
      "source": [
        "# Arquitetura 2, Modelo 4 (A2M4)"
      ],
      "metadata": {
        "id": "NlfEaaMlMiNB"
      }
    },
    {
      "cell_type": "code",
      "source": [
        "#Copiando a arquitetura 2 para o modelo 4.\n",
        "a2m4 = a2\n",
        "\n",
        "# Treinando o modelo com 400 epocas - A2M4\n",
        "history_a2m4 = a2m4.fit(xs, ys, epochs=400)"
      ],
      "metadata": {
        "id": "0PCG02w0MiNB"
      },
      "execution_count": null,
      "outputs": []
    },
    {
      "cell_type": "code",
      "source": [
        "# Inspecionando o modelo\n",
        "print(\"wi = \", a2m4.get_weights()[0][0][0])\n",
        "print(\"b  = \", a2m4.get_weights()[1][0])"
      ],
      "metadata": {
        "colab": {
          "base_uri": "https://localhost:8080/"
        },
        "outputId": "d8c88ace-6630-4662-deca-55d4dbe25491",
        "id": "ZPfgB31RMiNC"
      },
      "execution_count": 278,
      "outputs": [
        {
          "output_type": "stream",
          "name": "stdout",
          "text": [
            "wi =  -1.3248581\n",
            "b  =  0.38315466\n"
          ]
        }
      ]
    },
    {
      "cell_type": "code",
      "source": [
        "# Salvando o Modelo treinado (Arquitetura 2, Modelo 4 - A2M4)\n",
        "a2.save('a2m4.h5')"
      ],
      "metadata": {
        "id": "dfNvs_miMiNC"
      },
      "execution_count": 279,
      "outputs": []
    },
    {
      "cell_type": "code",
      "source": [
        "# Testando o modelo a2m4\n",
        "\n",
        "print(a2m4.predict([10.0]))"
      ],
      "metadata": {
        "colab": {
          "base_uri": "https://localhost:8080/"
        },
        "outputId": "87db5ad2-d491-4a7b-87ba-cc606dec4ecc",
        "id": "Hgzqnnx5MiNC"
      },
      "execution_count": 280,
      "outputs": [
        {
          "output_type": "stream",
          "name": "stdout",
          "text": [
            "1/1 [==============================] - 0s 76ms/step\n",
            "[[18.999996]]\n"
          ]
        }
      ]
    },
    {
      "cell_type": "code",
      "source": [
        "import matplotlib.pyplot as plt\n",
        "plt.plot(history_a2m4.history['loss'])\n",
        "plt.title('Arquitecture 2 Model 4 loss')\n",
        "plt.ylabel('loss')\n",
        "plt.xlabel('epoch')\n",
        "plt.legend(['train'], loc='upper right')\n",
        "plt.show()"
      ],
      "metadata": {
        "colab": {
          "base_uri": "https://localhost:8080/",
          "height": 472
        },
        "outputId": "fbf00f20-389f-4462-a104-2d5dcd3dcea3",
        "id": "rHLL1FWGMiNC"
      },
      "execution_count": 183,
      "outputs": [
        {
          "output_type": "display_data",
          "data": {
            "text/plain": [
              "<Figure size 640x480 with 1 Axes>"
            ],
            "image/png": "[encoded data removed]"
          },
          "metadata": {}
        }
      ]
    },
    {
      "cell_type": "markdown",
      "source": [
        "# Arquitetura 2, Modelo 5 (A2M5)"
      ],
      "metadata": {
        "id": "0JYiOeAdNk6I"
      }
    },
    {
      "cell_type": "code",
      "source": [
        "#Copiando a arquitetura 2 para o modelo 5.\n",
        "a2m5 = a2\n",
        "\n",
        "# Treinando o modelo com 500 epocas - A2M5\n",
        "history_a2m5 = a2m5.fit(xs, ys, epochs=500)"
      ],
      "metadata": {
        "id": "8CfJUNTbNk6I"
      },
      "execution_count": null,
      "outputs": []
    },
    {
      "cell_type": "code",
      "source": [
        "# Inspecionando o modelo\n",
        "print(\"wi = \", a2m5.get_weights()[0][0][0])\n",
        "print(\"b  = \", a2m5.get_weights()[1][0])"
      ],
      "metadata": {
        "colab": {
          "base_uri": "https://localhost:8080/"
        },
        "outputId": "0944faa7-5f3b-404f-c86c-961bd28fdf88",
        "id": "Qpe7JMAONk6I"
      },
      "execution_count": 284,
      "outputs": [
        {
          "output_type": "stream",
          "name": "stdout",
          "text": [
            "wi =  -1.3708448\n",
            "b  =  0.5418871\n"
          ]
        }
      ]
    },
    {
      "cell_type": "code",
      "source": [
        "# Salvando o Modelo treinado (Arquitetura 2, Modelo 5 - A2M5)\n",
        "a2.save('a2m5.h5')"
      ],
      "metadata": {
        "id": "i6YfWarSNk6I"
      },
      "execution_count": 285,
      "outputs": []
    },
    {
      "cell_type": "code",
      "source": [
        "# Testando o modelo a2m5\n",
        "\n",
        "print(a2m5.predict([10.0]))"
      ],
      "metadata": {
        "colab": {
          "base_uri": "https://localhost:8080/"
        },
        "outputId": "f2baa63e-1850-473e-b7d5-702e575e7057",
        "id": "gdC57I_LNk6J"
      },
      "execution_count": 286,
      "outputs": [
        {
          "output_type": "stream",
          "name": "stdout",
          "text": [
            "1/1 [==============================] - 0s 70ms/step\n",
            "[[18.999994]]\n"
          ]
        }
      ]
    },
    {
      "cell_type": "code",
      "source": [
        "import matplotlib.pyplot as plt\n",
        "plt.plot(history_a2m5.history['loss'])\n",
        "plt.title('Arquitecture 2 Model 5 loss')\n",
        "plt.ylabel('loss')\n",
        "plt.xlabel('epoch')\n",
        "plt.legend(['train'], loc='upper right')\n",
        "plt.show()"
      ],
      "metadata": {
        "colab": {
          "base_uri": "https://localhost:8080/",
          "height": 472
        },
        "outputId": "6e56ba14-cfc7-4bc3-92ae-34e46d8f15c3",
        "id": "VhD_1SfTNk6J"
      },
      "execution_count": 212,
      "outputs": [
        {
          "output_type": "display_data",
          "data": {
            "text/plain": [
              "<Figure size 640x480 with 1 Axes>"
            ],
            "image/png": "[encoded data removed]"
          },
          "metadata": {}
        }
      ]
    },
    {
      "cell_type": "markdown",
      "source": [
        "# Comparando as duas arquiteturas graficamente"
      ],
      "metadata": {
        "id": "4Sy6cby2YI12"
      }
    },
    {
      "cell_type": "code",
      "source": [
        "architectures = ['Architecture 1', 'Architecture 2']\n",
        "weight_labels = ['Weight 1', 'Weight 2', 'Weight 3', 'Weight 4', 'Weight 5']\n",
        "wia1 = [1.8447167, 1.9805129, 1.9991337, 1.9999859, 1.9999982]\n",
        "ba1 = [-0.51859474, -0.9395835, -0.99731386, -0.9999573, -0.99999595]\n",
        "wia2 = [-1.3443642, -1.3446904, -1.11633, -1.3248581, -1.3708448]\n",
        "ba2 = [0.32434458, 0.3258666, 0.36915517, 0.38315466, 0.5418871]\n",
        "\n",
        "x = np.arange(len(weight_labels))\n",
        "bar_width = 0.35\n",
        "plt.bar(x - bar_width/2, wia1, bar_width, label='Architecture 1', align='center')\n",
        "plt.bar(x + bar_width/2, wia2, bar_width, label='Architecture 2', align='center')\n",
        "plt.xlabel('Weights')\n",
        "plt.ylabel('Values')\n",
        "plt.title('Weights of Different Architectures')\n",
        "plt.xticks(x, weight_labels)\n",
        "plt.legend()\n",
        "\n",
        "plt.tight_layout()\n",
        "plt.show()\n"
      ],
      "metadata": {
        "colab": {
          "base_uri": "https://localhost:8080/",
          "height": 487
        },
        "id": "DiXd_IJBSeZY",
        "outputId": "9ca879c4-3fa7-40a8-dcbf-b12a2b78dde0"
      },
      "execution_count": 309,
      "outputs": [
        {
          "output_type": "display_data",
          "data": {
            "text/plain": [
              "<Figure size 640x480 with 1 Axes>"
            ],
            "image/png": "[encoded data removed]"
          },
          "metadata": {}
        }
      ]
    },
    {
      "cell_type": "markdown",
      "source": [
        "# Conclusão da primeira arquitetura:\n",
        "-> 1 Neurônio na hidden layer.\n",
        "\n",
        "A partir de 250 épocas, o treinamento se torna desnecessário. O Erro cria uma tendência à zero (limite), e varia em ordens 1*10ˆ-8. Assim como a precisão, após adotar um parâmetro de previsão para todos os modelos de 10, obtivemos os seguintes resultados:\n",
        "\n",
        "\n",
        "* A1M1:\n",
        "  * Pesos:\n",
        "    * wi =  1.8447167\n",
        "    * b  =  -0.51859474\n",
        "  * **Predição para o valor 10 = 17.928572**\n",
        "* A1M2:\n",
        "  * Pesos:\n",
        "    * wi =  1.9805129\n",
        "    * b  =  -0.9395835\n",
        "  * **Predição para o valor 10 = 18.865545**\n",
        "* A1M3:\n",
        "  * Pesos:\n",
        "    * wi =  1.9991337\n",
        "    * b  =  -0.99731386\n",
        "  * **Predição para o valor 10 = 18.994022**\n",
        "* A1M4:\n",
        "  * Pesos:\n",
        "    * wi =  1.9999859\n",
        "    * b  =  -0.9999573\n",
        "  * **Predição para o valor 10 = 18.999987**\n",
        "* A1M5:\n",
        "  * Pesos:\n",
        "    * wi =  1.9999982\n",
        "    * b  =  -0.99999595\n",
        "  * **Predição para o valor 10 = 18.999987**\n",
        "\n",
        "Logo, podemos inferor que à partir de 400 épocas, a variação é tão pequena, que ultrapassa a 7a casa decimal (que é mostrada por padrão no collab). Além disso, é possível observar que à partir do modelo 4, os pesos variam em uma ordem de casa decimal 5.\n",
        "\n",
        "# Conclusão da segunda arquitetura\n",
        "-> 2 Neurônios na hidden layer.\n",
        "\n",
        "Em contrapartida, em uma arquitetura com dois neurônios, a estabilização do loss se dá por volta das 25 épocas. Mantendo o parâmetro de previsão 10, obtivemos:\n",
        "\n",
        "* A2M1:\n",
        "  * Pesos:\n",
        "    * wi =  -1.3443642\n",
        "    * b  =  0.32434458\n",
        "  * **Predição para o valor 10 = 18.989567**\n",
        "* A2M2:\n",
        "  * Pesos:\n",
        "    * wi =  -1.3446904\n",
        "    * b  =  0.3258666\n",
        "  * **Predição para o valor 10 = 18.999998**\n",
        "* A2M3:\n",
        "  * Pesos:\n",
        "    * wi =  -1.11633\n",
        "    * b  =  0.36915517\n",
        "  * **Predição para o valor 10 = 18.999416**\n",
        "* A2M4:\n",
        "  * Pesos:\n",
        "    * wi =  -1.3248581\n",
        "    * b  =  0.38315466\n",
        "  * **Predição para o valor 10 = 18.999996**\n",
        "* A2M5:\n",
        "  * Pesos:\n",
        "    * wi =  -1.3708448\n",
        "    * b  =  0.5418871\n",
        "  * **Predição para o valor 10 = 18.999994**\n",
        "\n",
        "  Podemos observar que os pesos não seguiram um padrão, como na primeira arquitetura, um possível causador seja o Learning rate.\n",
        "\n",
        "  # Conclusão final\n",
        "  "
      ],
      "metadata": {
        "id": "P3Gv7SBpAq2Z"
      }
    }
  ]
}